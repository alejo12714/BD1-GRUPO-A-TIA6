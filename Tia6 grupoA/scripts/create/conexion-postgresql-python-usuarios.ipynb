{
 "cells": [
  {
   "cell_type": "markdown",
   "id": "fd8e963d",
   "metadata": {},
   "source": [
    "# -*- coding: utf-8 -*-\n",
    "\"\"\"\n",
    "Conexión a PostgreSQL, Creación y Poblamiento de Tabla, y Carga con Pandas y Polars en Google Colab (Local)\n",
    "\n",
    "Este cuaderno Jupyter (Google Colab) demuestra cómo conectarse a una base de datos PostgreSQL local,\n",
    "crear una tabla, insertar 100 registros de ejemplo, y luego cargar esos datos\n",
    "usando las librerías Pandas y Polars. El código está diseñado para ser\n",
    "ejecutado localmente en un PC.\n",
    "\n",
    "Instrucciones Previas:\n",
    "1. Asegúrate de tener PostgreSQL instalado y ejecutándose en tu máquina local.\n",
    "2. Crea una base de datos (ej. 'red') y un usuario (ej. 'mi_usuario')\n",
    "   con una contraseña (ej. '123456') con los permisos adecuados.\n",
    "   Puedes hacerlo desde la línea de comandos de PostgreSQL (psql):\n",
    "   ```sql\n",
    "   CREATE DATABASE red;\n",
    "   CREATE USER mi_usuario WITH PASSWORD '123456';\n",
    "   GRANT ALL PRIVILEGES ON DATABASE red TO mi_usuario;\n",
    "   ```\n",
    "3. Instala las librerías necesarias en tu entorno local si no las tienes:\n",
    "   `pip install psycopg2-binary pandas polars Faker`\n",
    "\"\"\""
   ]
  },
  {
   "cell_type": "code",
   "execution_count": 58,
   "id": "215b83d5",
   "metadata": {},
   "outputs": [
    {
     "name": "stdout",
     "output_type": "stream",
     "text": [
      "Requirement already satisfied: psycopg2-binary in c:\\users\\dmazo\\appdata\\local\\packages\\pythonsoftwarefoundation.python.3.11_qbz5n2kfra8p0\\localcache\\local-packages\\python311\\site-packages (2.9.10)\n",
      "Requirement already satisfied: pandas in c:\\users\\dmazo\\appdata\\local\\packages\\pythonsoftwarefoundation.python.3.11_qbz5n2kfra8p0\\localcache\\local-packages\\python311\\site-packages (2.2.3)\n",
      "Requirement already satisfied: polars in c:\\users\\dmazo\\appdata\\local\\packages\\pythonsoftwarefoundation.python.3.11_qbz5n2kfra8p0\\localcache\\local-packages\\python311\\site-packages (1.30.0)\n",
      "Requirement already satisfied: Faker in c:\\users\\dmazo\\appdata\\local\\packages\\pythonsoftwarefoundation.python.3.11_qbz5n2kfra8p0\\localcache\\local-packages\\python311\\site-packages (37.3.0)\n",
      "Requirement already satisfied: numpy>=1.23.2 in c:\\users\\dmazo\\appdata\\local\\packages\\pythonsoftwarefoundation.python.3.11_qbz5n2kfra8p0\\localcache\\local-packages\\python311\\site-packages (from pandas) (2.2.6)\n",
      "Requirement already satisfied: python-dateutil>=2.8.2 in c:\\users\\dmazo\\appdata\\local\\packages\\pythonsoftwarefoundation.python.3.11_qbz5n2kfra8p0\\localcache\\local-packages\\python311\\site-packages (from pandas) (2.9.0.post0)\n",
      "Requirement already satisfied: pytz>=2020.1 in c:\\users\\dmazo\\appdata\\local\\packages\\pythonsoftwarefoundation.python.3.11_qbz5n2kfra8p0\\localcache\\local-packages\\python311\\site-packages (from pandas) (2025.2)\n",
      "Requirement already satisfied: tzdata>=2022.7 in c:\\users\\dmazo\\appdata\\local\\packages\\pythonsoftwarefoundation.python.3.11_qbz5n2kfra8p0\\localcache\\local-packages\\python311\\site-packages (from pandas) (2025.2)\n",
      "Requirement already satisfied: six>=1.5 in c:\\users\\dmazo\\appdata\\local\\packages\\pythonsoftwarefoundation.python.3.11_qbz5n2kfra8p0\\localcache\\local-packages\\python311\\site-packages (from python-dateutil>=2.8.2->pandas) (1.17.0)\n",
      "Note: you may need to restart the kernel to use updated packages.\n"
     ]
    },
    {
     "name": "stderr",
     "output_type": "stream",
     "text": [
      "\n",
      "[notice] A new release of pip is available: 24.0 -> 25.1.1\n",
      "[notice] To update, run: C:\\Users\\dmazo\\AppData\\Local\\Microsoft\\WindowsApps\\PythonSoftwareFoundation.Python.3.11_qbz5n2kfra8p0\\python.exe -m pip install --upgrade pip\n"
     ]
    },
    {
     "name": "stdout",
     "output_type": "stream",
     "text": [
      "Requirement already satisfied: SQLAlchemy in c:\\users\\dmazo\\appdata\\local\\packages\\pythonsoftwarefoundation.python.3.11_qbz5n2kfra8p0\\localcache\\local-packages\\python311\\site-packages (2.0.41)\n",
      "Requirement already satisfied: greenlet>=1 in c:\\users\\dmazo\\appdata\\local\\packages\\pythonsoftwarefoundation.python.3.11_qbz5n2kfra8p0\\localcache\\local-packages\\python311\\site-packages (from SQLAlchemy) (3.2.2)\n",
      "Requirement already satisfied: typing-extensions>=4.6.0 in c:\\users\\dmazo\\appdata\\local\\packages\\pythonsoftwarefoundation.python.3.11_qbz5n2kfra8p0\\localcache\\local-packages\\python311\\site-packages (from SQLAlchemy) (4.13.2)\n",
      "Note: you may need to restart the kernel to use updated packages.\n"
     ]
    },
    {
     "name": "stderr",
     "output_type": "stream",
     "text": [
      "\n",
      "[notice] A new release of pip is available: 24.0 -> 25.1.1\n",
      "[notice] To update, run: C:\\Users\\dmazo\\AppData\\Local\\Microsoft\\WindowsApps\\PythonSoftwareFoundation.Python.3.11_qbz5n2kfra8p0\\python.exe -m pip install --upgrade pip\n"
     ]
    }
   ],
   "source": [
    "%pip install psycopg2-binary pandas polars Faker\n",
    "%pip install SQLAlchemy"
   ]
  },
  {
   "cell_type": "code",
   "execution_count": 59,
   "id": "05b348ab",
   "metadata": {},
   "outputs": [],
   "source": [
    "# 1. Importar Librerías Necesarias\n",
    "# ---------------------------------\n",
    "import psycopg2\n",
    "import pandas as pd\n",
    "import polars as pl\n",
    "from faker import Faker\n",
    "import random\n",
    "from datetime import datetime\n",
    "from sqlalchemy import create_engine"
   ]
  },
  {
   "cell_type": "code",
   "execution_count": 60,
   "id": "ad741361",
   "metadata": {},
   "outputs": [],
   "source": [
    "# 2. Configuración de la Conexión a la Base de Datos PostgreSQL (Local)\n",
    "# -------------------------------------------------------------------\n",
    "# Asegúrate de que estos parámetros coincidan con tu configuración local de PostgreSQL.\n",
    "DB_HOST     = \"localhost\"   # La dirección IP de tu servidor PostgreSQL (normalmente 'localhost' para local)\n",
    "DB_NAME     = \"db12\"         # El nombre de la base de datos a la que te quieres conectar\n",
    "DB_USER     = \"postgres\"  # El nombre de usuario de la base de datos\n",
    "DB_PASSWORD = \"postgres\"      # La contraseña del usuario de la base de datos\n",
    "DB_PORT     = \"5432\"        # El puerto de tu servidor PostgreSQL (el predeterminado es 5432)"
   ]
  },
  {
   "cell_type": "code",
   "execution_count": 61,
   "id": "5815cb64",
   "metadata": {},
   "outputs": [],
   "source": [
    "# --------------------------------------------------------\n",
    "# 3. Función para Establecer la Conexión a la Base de Datos\n",
    "# Establece y devuelve una conexión a la base de datos PostgreSQL.\n",
    "# --------------------------------------------------------\n",
    "def get_db_connection():\n",
    "    try:\n",
    "        print(f\"DEBUG - DB_HOST: '{DB_HOST}'\")\n",
    "        print(f\"DEBUG - DB_NAME: '{DB_NAME}'\")\n",
    "        print(f\"DEBUG - DB_USER: '{DB_USER}'\")\n",
    "        # ¡IMPORTANTE! No imprimas la contraseña directamente por seguridad.\n",
    "        # Solo verifica que tiene un valor y que no está vacía.\n",
    "        print(f\"DEBUG - DB_PASSWORD length: {len(DB_PASSWORD) if DB_PASSWORD else 0}\")\n",
    "        print(f\"DEBUG - DB_PASSWORD starts with: '{DB_PASSWORD[0]}' ends with: '{DB_PASSWORD[-1]}'\")\n",
    "        print(f\"DEBUG - DB_PORT: '{DB_PORT}'\")\n",
    "\n",
    "        conn = psycopg2.connect(\n",
    "            host    =DB_HOST,\n",
    "            database=DB_NAME,\n",
    "            user    =DB_USER,\n",
    "            password=DB_PASSWORD,\n",
    "            port    =DB_PORT\n",
    "        )\n",
    "        print(\"Conexión a la base de datos PostgreSQL exitosa!\")\n",
    "        return conn\n",
    "    except psycopg2.Error as e:\n",
    "        print(f\"Error al conectar a la base de datos PostgreSQL: {e}\")\n",
    "        return None"
   ]
  },
  {
   "cell_type": "code",
   "execution_count": 62,
   "id": "0b6a7b09",
   "metadata": {},
   "outputs": [],
   "source": [
    "# ---------------------------------------------\n",
    "# 4. Creación de la Tabla 'estudiantes'\n",
    "#    Crea la tabla 'estudiantes' si no existe.\n",
    "#    Se pasa el parámetro de conexión a la BD\n",
    "# ---------------------------------------------\n",
    "def crear_tabla_usuario(conn):\n",
    "    cursor = conn.cursor()\n",
    "    try:\n",
    "        cursor.execute(\"\"\"\n",
    "            CREATE TABLE usuario (\n",
    "                cod_usuario INT PRIMARY KEY,\n",
    "                usuario VARCHAR(50) NOT NULL UNIQUE,\n",
    "                contrasena_usuario VARCHAR(20) NOT NULL\n",
    "            );\n",
    "        \"\"\")\n",
    "        conn.commit()\n",
    "        print(\"Tabla 'usuario' creada o ya existe exitosamente.\")\n",
    "    except psycopg2.Error as e:\n",
    "        print(f\"Error al crear la tabla 'usuario': {e}\")\n",
    "        conn.rollback() # Deshacer la transacción en caso de error\n",
    "    finally:\n",
    "        cursor.close()"
   ]
  },
  {
   "cell_type": "code",
   "execution_count": 63,
   "id": "8b0e7a2c",
   "metadata": {},
   "outputs": [],
   "source": [
    "#from faker import Faker\n",
    "import psycopg2\n",
    "\n",
    "def cargar_muestra_usuarios(conn, num_records=100):\n",
    "    fake = Faker('es_CO')\n",
    "\n",
    "    print(f\"\\nInsertando {num_records} registros en la tabla 'usuario'...\")\n",
    "\n",
    "    try:\n",
    "        with conn.cursor() as cursor:\n",
    "            # Obtener el último cod_usuario existente\n",
    "            cursor.execute(\"SELECT MAX(cod_usuario) FROM usuario;\")\n",
    "            last_cod_usuario = cursor.fetchone()[0]\n",
    "            next_cod_usuario = (last_cod_usuario if last_cod_usuario is not None else 0) + 1\n",
    "\n",
    "            for i in range(num_records):\n",
    "                v_cod_usuario = next_cod_usuario + i\n",
    "                v_usuario = fake.user_name()\n",
    "                v_contrasena_usuario = fake.password(length=10, special_chars=True, digits=True, upper_case=True, lower_case=True)\n",
    "\n",
    "                try:\n",
    "                    cursor.execute(\"\"\"\n",
    "                        INSERT INTO usuario (cod_usuario, usuario, contrasena_usuario)\n",
    "                        VALUES (%s, %s, %s)\n",
    "                        ON CONFLICT (usuario) DO NOTHING;\n",
    "                    \"\"\", (v_cod_usuario, v_usuario, v_contrasena_usuario))\n",
    "                except psycopg2.Error as e:\n",
    "                    print(f\"Error al insertar cod_usuario={v_cod_usuario}: {e}\")\n",
    "                    conn.rollback()\n",
    "\n",
    "            conn.commit()\n",
    "            print(f\"{num_records} registros de usuarios intentados. Revise las advertencias para los fallos.\")\n",
    "\n",
    "    except Exception as e:\n",
    "        print(f\"Error crítico en la inserción de usuarios: {e}\")\n",
    "        conn.rollback()"
   ]
  },
  {
   "cell_type": "code",
   "execution_count": 64,
   "id": "9f029167",
   "metadata": {},
   "outputs": [],
   "source": [
    "# ----------------------------------------\n",
    "# 6. Despliegue y Carga de Datos con Pandas\n",
    "#    Carga los datos de la tabla 'estudiantes' en un DataFrame de Pandas.\n",
    "# ----------------------------------------\n",
    "def cargar_datos_con_pandas(conn):\n",
    "    print(\"\\nCargando datos con Pandas...\")\n",
    "    try:\n",
    "        df_pandas = pd.read_sql_query(\"SELECT * FROM usuario;\", conn)\n",
    "        print(\"Datos cargados exitosamente en un DataFrame de Pandas.\")\n",
    "        print(\"Primeras 10 filas del DataFrame de Pandas:\")\n",
    "        print(df_pandas.head(10))\n",
    "        print(f\"Número de filas en el DataFrame de Pandas: {len(df_pandas)}\")\n",
    "        return df_pandas\n",
    "    except Exception as e:\n",
    "        print(f\"Error al cargar datos con Pandas: {e}\")\n",
    "        return None"
   ]
  },
  {
   "cell_type": "code",
   "execution_count": 65,
   "id": "bcc188c0",
   "metadata": {},
   "outputs": [],
   "source": [
    "# -------------------------------------\n",
    "# 7. Función Principal para la Ejecución\n",
    "#    Función principal que orquesta la conexión, creación, poblamiento y carga de datos.\n",
    "# -------------------------------------\n",
    "def main():\n",
    "    conn = None # Inicializar la conexión a None\n",
    "    try:\n",
    "        conn = get_db_connection()\n",
    "        if conn:\n",
    "            crear_tabla_usuario(conn)\n",
    "            cargar_muestra_usuarios(conn, num_records=100)\n",
    "\n",
    "            # Cargar y mostrar datos con Pandas\n",
    "            df_pandas = cargar_datos_con_pandas(conn)\n",
    "    finally:\n",
    "        if conn:\n",
    "            conn.close()\n",
    "            print(\"\\nConexión a la base de datos cerrada.\")"
   ]
  },
  {
   "cell_type": "code",
   "execution_count": 66,
   "id": "a89a5f4d",
   "metadata": {},
   "outputs": [
    {
     "name": "stdout",
     "output_type": "stream",
     "text": [
      "DEBUG - DB_HOST: 'localhost'\n",
      "DEBUG - DB_NAME: 'db12'\n",
      "DEBUG - DB_USER: 'postgres'\n",
      "DEBUG - DB_PASSWORD length: 8\n",
      "DEBUG - DB_PASSWORD starts with: 'p' ends with: 's'\n",
      "DEBUG - DB_PORT: '5432'\n",
      "Conexión a la base de datos PostgreSQL exitosa!\n",
      "Error al crear la tabla 'usuario': la relación «usuario» ya existe\n",
      "\n",
      "\n",
      "Insertando 100 registros en la tabla 'usuario'...\n",
      "100 registros de usuarios intentados. Revise las advertencias para los fallos.\n",
      "\n",
      "Cargando datos con Pandas...\n",
      "Datos cargados exitosamente en un DataFrame de Pandas.\n",
      "Primeras 10 filas del DataFrame de Pandas:\n",
      "   cod_usuario      usuario contrasena_usuario\n",
      "0            1     eduard13         @1VBL7rMvU\n",
      "1            2   olgasuarez         #76Q)#Uhe3\n",
      "2            3    mariana87         T!^8+Napq$\n",
      "3            4       yortiz         $k8sNwVc%6\n",
      "4            5  alexander32         *8MLABfGM4\n",
      "5            6     rcabrera         4gEaflT0^b\n",
      "6            7   davidortiz         +1kD7k_oY1\n",
      "7            8  castrodiego         6R&!74Dcf$\n",
      "8            9       llopez         C3Cu!om+&v\n",
      "9           10      ncorrea         42uHJ0@p+p\n",
      "Número de filas en el DataFrame de Pandas: 100\n",
      "\n",
      "Conexión a la base de datos cerrada.\n"
     ]
    },
    {
     "name": "stderr",
     "output_type": "stream",
     "text": [
      "C:\\Users\\dmazo\\AppData\\Local\\Temp\\ipykernel_32464\\3628179052.py:8: UserWarning: pandas only supports SQLAlchemy connectable (engine/connection) or database string URI or sqlite3 DBAPI2 connection. Other DBAPI2 objects are not tested. Please consider using SQLAlchemy.\n",
      "  df_pandas = pd.read_sql_query(\"SELECT * FROM usuario;\", conn)\n"
     ]
    }
   ],
   "source": [
    "# -------------------------------\n",
    "# 8. Ejecutar la Función Principal\n",
    "# -------------------------------\n",
    "if __name__ == \"__main__\":\n",
    "    main()\n"
   ]
  }
 ],
 "metadata": {
  "kernelspec": {
   "display_name": "Python 3",
   "language": "python",
   "name": "python3"
  },
  "language_info": {
   "codemirror_mode": {
    "name": "ipython",
    "version": 3
   },
   "file_extension": ".py",
   "mimetype": "text/x-python",
   "name": "python",
   "nbconvert_exporter": "python",
   "pygments_lexer": "ipython3",
   "version": "3.11.9"
  }
 },
 "nbformat": 4,
 "nbformat_minor": 5
}
